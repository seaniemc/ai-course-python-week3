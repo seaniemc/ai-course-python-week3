{
  "cells": [
    {
      "metadata": {},
      "cell_type": "markdown",
      "source": "#Student Name: Sean McGrath\n#Student ID: 18208088\n\nProblem Description:\nWrite and test python functions which perform calculations on matrices and vectors.\n\nAs part of this problem we add, subtract and multiply matrices of different length. \nWe also have a function which multiplies a matrix and a vector.\n\nAdded try/finally to functions and reconfigured the matrixAddOrSubtr function, following comments in code review from Declan Staunton.\n"
    },
    {
      "metadata": {
        "trusted": true
      },
      "cell_type": "code",
      "source": "from operator import add\nfrom operator import sub\n\n#function multiplies matrix and a vector\ndef matriceXVector(mat, vect):\n    matLen = len(mat)\n    vetLen = len(vect)\n    #list gets populated with multiplication values\n    multiAns = []\n    #list gets populated with sum of multiplication values\n    sumAns = []\n\n    try:\n        if len(mat[0]) == len(vect):\n            for i in range(matLen):\n                for j in range(vetLen):\n                    multiAns.append(mat[i][j] * vect[j])\n\n            sumAns = sumOfVectorMulti(multiAns)\n        else:\n            print('')\n            print('INFO: Columns of the matrix must be same length as the rows of the vector')\n    finally:\n        return sumAns\n\n#Helper function which performs addition of the multiplied \n# vector/matrix multiplication.\ndef sumOfVectorMulti(multiAns):\n    sumAns = []\n    incrment = 0\n    try:\n        if len(multiAns) == 4:\n            incrment = 2\n            #if the length of multiAns List is equal to 4, increment loop 2 at a time\n            for i in range(0, len(multiAns), incrment):\n                #sum the value at i with i +1\n                sumNum = multiAns[i] + multiAns[i + 1]\n                sumAns.append(sumNum)\n        elif len(multiAns) == 6:\n            incrment = 3\n            #if the length of multiAns List is equal to 6, increment loop 3 at a time\n            for i in range(0, len(multiAns), incrment):\n                #sum the value at i with i +1 + i +2\n                sumNum = multiAns[i] + multiAns[i + 1] + multiAns[i + 2]\n                sumAns.append(sumNum)\n        else:\n            print('')\n            print('INFO: Input mismatch, function can only operate on '\n                + 'matrix elements of length 2 or 3. Please check your Matrice input length ')\n    finally:\n        return sumAns\n\n#function which multiplies matrix's\ndef matriceMulti(mat1, mat2):\n    mat1Row = len(mat1)\n    mat1Columns = len(mat1[0])\n    mat2Rows = len(mat2)\n    mat2Columns = len(mat2[0])\n    #create a array containing only zero, which is the\n    # height of mat1 and length of mat2\n    sumAns = [[0 for y in range(mat2Columns)]for x in range(mat1Columns)]\n    try:\n        if mat1Columns == mat2Rows:\n            #https://stackoverflow.com/questions/17623876/matrix-multiplication-using-arrays\n            for i in range(mat1Row):\n                for j in range(mat2Columns):\n                    for k in range(mat1Columns):\n                        sumAns[i][j] += mat1[i][k] * mat2[k][j]\n        else :\n            print('')\n            print('INFO - INPUT MISMATCH: Columns of matrix 1 not the same size as rows of matrix 2')\n    finally: \n        return sumAns\n\n# function which adds or subtracts matrix\ndef matrixAddOrSubtr(mat1, mat2, mathSign) :\n    #create a array containing only zero, which is the\n    # height of mat1 and length of mat2\n    sumAns = [[0 for y in range(len(mat2))]for x in range(len(mat1))]\n\n    try:  # Verify the length of the Column / Row of the Matrix\n        if len(mat1) == len(mat2) and len(mat1[0]) == len(mat2[0]):\n             for i in range(len(mat1)):\n                for j in range(len(mat2[0])):\n                    # pass the numbers at mat1[i][j] and mat2[i][j] to the built in function\n                    # which will add or subtract the values, depending on what is passed into function.\n                    sumAns[i][j] += mathSign(mat1[i][j], mat2[i][j])\n        else:  # Data Mismatch - Print Error\n            print('')\n            print('INFO - INPUT MISMATCH: Columns of matrix 1 not the same size as rows of matrix 2')\n\n    finally:  # Return Result as a list\n         return sumAns\n\nif __name__ == '__main__':\n    \n    #Matrix and vector with 3 elements\n    testMat1 = [[3, 5, -4], [2, 3, -2]]\n    vect1 = [3, 4, -2]\n\n    ##Matrix and vector with 2 elements\n    testMat2 = [[3, 5], [2, 3]]\n    vect2 = [3, 4]\n\n    #Matrix and vector mismatch to prove verifcation\n    testMat3 = [[3, 5], [2, 3]]\n    vect3 = [3, 4, 5]\n\n    #2 X 2 Matrices\n    matrix1 = [[1, 6], [4, -4]]\n    matrix2 = [[2, 9], [4, 5]]\n\n    #4 x4 Matrices\n    matrix3 = [[1, 6, 4, 5], [4, -4, 8, 6], [4, -4, 8, 7], [4, -4, 8, -9]]\n    matrix4 = [[2, -6, 9, -4], [4, 5, -1, -3], [4, 5, -1, 7], [4,-2, 5, -1]]\n\n    answerMatrixtest1 = [37, 22]\n    answerMatrixtest2 = [29, 18]\n    answerMatrixtest3 = [[3, 15], [8, 1]]\n    answerMatrixtest4 = [[-1, -3], [0, -9]]\n    answerMatrixtest5 = [[26, 39], [-8, 16]]\n    answerMatrixtest6 = [[62, 34, 24, 1], \n                        [48, -16, 62, 46], \n                        [52, -18, 67, 45], \n                        [-12, 14, -13, 61]]\n\n    if answerMatrixtest1 == matriceXVector(testMat1, vect1) :\n        print('')\n        print('{} x {} = {}'.format(testMat1, vect1, answerMatrixtest1))\n        print(' == True')\n    else : \n        print('False')\n    \n    if answerMatrixtest2 == matriceXVector(testMat2, vect2) :\n        print('')\n        print('{} x {} = {}'.format(testMat2, vect2, answerMatrixtest2))\n        print(' == True')\n    else : \n        print('False')\n\n    if answerMatrixtest2 == matriceXVector(testMat3, vect3) :\n        print('True')\n    else : \n        print('')\n        print('{} x {} = {}'.format(testMat3, vect3, answerMatrixtest2))\n        print(' == False')\n    \n    if answerMatrixtest3 == matrixAddOrSubtr(matrix1, matrix2, add) :\n        print('')\n        print('{} + {} = {}'.format(matrix1, matrix2, answerMatrixtest3))\n        print(' == True')\n    else : \n        print('False')\n    \n    if answerMatrixtest4 == matrixAddOrSubtr(matrix1, matrix2, sub) :\n        print('')\n        print('{} - {} = {}'.format(matrix1, matrix2, answerMatrixtest3))\n        print('== True')\n    else : \n        print('False')\n\n    if answerMatrixtest5 == matriceMulti(matrix1, matrix2) :\n        print('')\n        print('{} - {} = {}'.format(matrix1, matrix2, answerMatrixtest3))\n        print('== True')\n    else : \n        print('False')\n\n    if answerMatrixtest4 == matrixAddOrSubtr(testMat1, vect1, sub) :\n        print('True')\n    else : \n        print('False')\n\n    if answerMatrixtest6 == matriceMulti(matrix3, matrix4) :\n        print('')\n        print('{}\\n                         x\\n {}\\n = {}'.format(matrix3, matrix4, answerMatrixtest6))\n        print('== True')\n    else : \n        print('')\n        print('False')\n\n",
      "execution_count": 2,
      "outputs": [
        {
          "output_type": "stream",
          "text": "\n[[3, 5, -4], [2, 3, -2]] x [3, 4, -2] = [37, 22]\n == True\n\n[[3, 5], [2, 3]] x [3, 4] = [29, 18]\n == True\n\nINFO: Columns of the matrix must be same length as the rows of the vector\n\n[[3, 5], [2, 3]] x [3, 4, 5] = [29, 18]\n == False\n\n[[1, 6], [4, -4]] + [[2, 9], [4, 5]] = [[3, 15], [8, 1]]\n == True\n\n[[1, 6], [4, -4]] - [[2, 9], [4, 5]] = [[3, 15], [8, 1]]\n== True\n\n[[1, 6], [4, -4]] - [[2, 9], [4, 5]] = [[3, 15], [8, 1]]\n== True\n\nINFO - INPUT MISMATCH: Columns of matrix 1 not the same size as rows of matrix 2\nFalse\n\n[[1, 6, 4, 5], [4, -4, 8, 6], [4, -4, 8, 7], [4, -4, 8, -9]]\n                         x\n [[2, -6, 9, -4], [4, 5, -1, -3], [4, 5, -1, 7], [4, -2, 5, -1]]\n = [[62, 34, 24, 1], [48, -16, 62, 46], [52, -18, 67, 45], [-12, 14, -13, 61]]\n== True\n",
          "name": "stdout"
        }
      ]
    },
    {
      "metadata": {
        "trusted": true
      },
      "cell_type": "code",
      "source": "",
      "execution_count": null,
      "outputs": []
    }
  ],
  "metadata": {
    "kernelspec": {
      "name": "python3",
      "display_name": "Python 3",
      "language": "python"
    },
    "language_info": {
      "mimetype": "text/x-python",
      "nbconvert_exporter": "python",
      "name": "python",
      "pygments_lexer": "ipython3",
      "version": "3.5.4",
      "file_extension": ".py",
      "codemirror_mode": {
        "version": 3,
        "name": "ipython"
      }
    }
  },
  "nbformat": 4,
  "nbformat_minor": 1
}